{
  "cells": [
    {
      "cell_type": "markdown",
      "id": "37130bf0",
      "metadata": {
        "id": "37130bf0"
      },
      "source": [
        "## Imports"
      ]
    },
    {
      "cell_type": "code",
      "execution_count": null,
      "id": "b19224a5",
      "metadata": {
        "id": "b19224a5"
      },
      "outputs": [],
      "source": [
        "# Imports\n",
        "\n",
        "import torch\n",
        "import torch.nn as nn\n",
        "import torch.optim as optim\n",
        "from torch.utils.data import DataLoader, Dataset\n",
        "from torch.optim import AdamW\n",
        "from transformers import AutoModelForSequenceClassification, AutoTokenizer, get_scheduler\n",
        "\n",
        "import os\n",
        "import random\n",
        "from datetime import datetime\n",
        "import time\n",
        "from tqdm.auto import tqdm\n",
        "\n",
        "import pandas as pd\n",
        "import numpy as np\n",
        "import matplotlib.pyplot as plt\n",
        "import seaborn as sns\n",
        "%matplotlib inline\n",
        "\n",
        "from sklearn.model_selection import train_test_split\n",
        "from sklearn.metrics import accuracy_score, f1_score, precision_score, recall_score\n"
      ]
    },
    {
      "cell_type": "code",
      "source": [
        "# Проверяем, выполняется ли код в Google Colab\n",
        "try:\n",
        "    # Если мы можем импортировать google.colab, значит код запускается на Colab\n",
        "    import glob\n",
        "    from google.colab import drive\n",
        "    drive.mount('/content/drive', force_remount=True)\n",
        "    DEFAULT_PATH = os.path.join('/content', 'drive', 'MyDrive', 'Jupiter_notebook', 'Diplom')\n",
        "\n",
        "except ImportError:\n",
        "    # Если не получается импортировать, значит код запускается локально\n",
        "    DEFAULT_PATH = os.getcwd()  # Используем текущую рабочую директорию\n",
        "\n",
        "print(f\"DEFAULT_PATH: {DEFAULT_PATH}\")"
      ],
      "metadata": {
        "colab": {
          "base_uri": "https://localhost:8080/"
        },
        "id": "a3ZxWSnz2OYq",
        "outputId": "d8485bb3-891c-4bc5-aff6-571f3bab5977"
      },
      "id": "a3ZxWSnz2OYq",
      "execution_count": null,
      "outputs": [
        {
          "output_type": "stream",
          "name": "stdout",
          "text": [
            "Mounted at /content/drive\n",
            "DEFAULT_PATH: /content/drive/MyDrive/Jupiter_notebook/Diplom\n"
          ]
        }
      ]
    },
    {
      "cell_type": "markdown",
      "source": [
        "## Defaults"
      ],
      "metadata": {
        "id": "UBXqfUF_zlnV"
      },
      "id": "UBXqfUF_zlnV"
    },
    {
      "cell_type": "code",
      "source": [
        "# Устанавливаем путь к директории\n",
        "# DEFAULT_PATH = os.getcwd()\n",
        "DATASET_DIR = os.path.join(DEFAULT_PATH, 'datasets')\n",
        "MODELS_PATH = os.path.join(DEFAULT_PATH, 'models')\n",
        "\n",
        "# Пути к файлам\n",
        "train_path = os.path.join(DATASET_DIR, 'train.csv')\n",
        "val_path = os.path.join(DATASET_DIR, 'val.csv')\n",
        "test_path = os.path.join(DATASET_DIR, 'test.csv')\n",
        "final_dataset_path = os.path.join(DATASET_DIR, 'final_dataset.csv')\n",
        "\n",
        "# Устанавливаем значение для random_state\n",
        "RANDOM_STATE = 42\n",
        "\n",
        "# Defaults for training\n",
        "BATCH_SIZE = 16\n",
        "NUM_EPOCHS = 10\n",
        "LEARNING_RATE = 5e-4\n",
        "EMBEDDING_DIM = 4\n",
        "EPSILON = 1e-6\n"
      ],
      "metadata": {
        "id": "upT5kfYAzk7a"
      },
      "id": "upT5kfYAzk7a",
      "execution_count": null,
      "outputs": []
    },
    {
      "cell_type": "code",
      "source": [
        "# Select device \"GPU\" or \"CPU\"\n",
        "DEVICE = torch.device(\"cuda\" if torch.cuda.is_available() else \"cpu\")\n",
        "DEVICE"
      ],
      "metadata": {
        "colab": {
          "base_uri": "https://localhost:8080/"
        },
        "id": "HPpYYvF30tmI",
        "outputId": "cd424deb-6366-4cd4-c9d0-80e583dde98a"
      },
      "id": "HPpYYvF30tmI",
      "execution_count": null,
      "outputs": [
        {
          "output_type": "execute_result",
          "data": {
            "text/plain": [
              "device(type='cuda')"
            ]
          },
          "metadata": {},
          "execution_count": 5
        }
      ]
    },
    {
      "cell_type": "code",
      "source": [
        "def set_seed(seed):\n",
        "    np.random.seed(seed)                        # Устанавливаем сид для NumPy\n",
        "    random.seed(seed)                           # Устанавливаем сид для стандартного модуля random\n",
        "    torch.manual_seed(seed)                     # Устанавливаем сид для CPU\n",
        "    if torch.cuda.is_available():               # Проверяем доступность GPU\n",
        "        torch.cuda.manual_seed(seed)            # Устанавливаем сид для первого GPU\n",
        "        torch.cuda.manual_seed_all(seed)        # Устанавливаем сид для всех GPU\n",
        "    torch.backends.cudnn.deterministic = True   # Детерминированное поведение cuDNN\n",
        "    torch.backends.cudnn.benchmark = False      # Отключаем оптимизацию для скорости\n",
        "\n",
        "set_seed(RANDOM_STATE)"
      ],
      "metadata": {
        "id": "0TZy7BotkHGd"
      },
      "id": "0TZy7BotkHGd",
      "execution_count": null,
      "outputs": []
    },
    {
      "cell_type": "markdown",
      "source": [
        "## Get Dataset"
      ],
      "metadata": {
        "id": "nGKWIRuUCOaJ"
      },
      "id": "nGKWIRuUCOaJ"
    },
    {
      "cell_type": "code",
      "source": [
        "if not all(os.path.exists(path) for path in [train_path, val_path, test_path]):\n",
        "    # Читаем основной датасет\n",
        "    df = pd.read_csv(final_dataset_path)\n",
        "\n",
        "    # Разбиваем на train, val, test с сохранением пропорций\n",
        "    train_df, temp = train_test_split(df, test_size=0.2, stratify=df['is_toxic'], random_state=RANDOM_STATE)\n",
        "    val_df, test_df = train_test_split(temp, test_size=0.5, stratify=temp['is_toxic'], random_state=RANDOM_STATE)\n",
        "\n",
        "    # Сохраняем в файлы\n",
        "    train_df.to_csv(train_path, index=False)\n",
        "    val_df.to_csv(val_path, index=False)\n",
        "    test_df.to_csv(test_path, index=False)\n",
        "else:\n",
        "    # Загружаем существующие данные\n",
        "    train_df = pd.read_csv(train_path)\n",
        "    val_df = pd.read_csv(val_path)\n",
        "    test_df = pd.read_csv(test_path)"
      ],
      "metadata": {
        "id": "ikHy8y7I1VRi"
      },
      "id": "ikHy8y7I1VRi",
      "execution_count": null,
      "outputs": []
    },
    {
      "cell_type": "markdown",
      "source": [
        "## EDA"
      ],
      "metadata": {
        "id": "keMKuGt7CWqA"
      },
      "id": "keMKuGt7CWqA"
    },
    {
      "cell_type": "code",
      "source": [
        "# Посмотрим на распределение классов\n",
        "sns.countplot(x='is_toxic', data=train_df)\n",
        "plt.title('Распределение классов в тренировочном наборе')\n",
        "plt.show()"
      ],
      "metadata": {
        "colab": {
          "base_uri": "https://localhost:8080/",
          "height": 472
        },
        "id": "B0NJg8bj01Aa",
        "outputId": "28024f20-e004-45f0-a5d9-c6c67555ce98"
      },
      "id": "B0NJg8bj01Aa",
      "execution_count": null,
      "outputs": [
        {
          "output_type": "display_data",
          "data": {
            "text/plain": [
              "<Figure size 640x480 with 1 Axes>"
            ],
            "image/png": "[encoded data removed]"
          },
          "metadata": {}
        }
      ]
    },
    {
      "cell_type": "code",
      "execution_count": null,
      "id": "d64f6586",
      "metadata": {
        "colab": {
          "base_uri": "https://localhost:8080/",
          "height": 472
        },
        "id": "d64f6586",
        "outputId": "7d92602e-e093-4f4e-ebb7-03dd3ed795e2"
      },
      "outputs": [
        {
          "output_type": "display_data",
          "data": {
            "text/plain": [
              "<Figure size 640x480 with 1 Axes>"
            ],
            "image/png": "[encoded data removed]"
          },
          "metadata": {}
        }
      ],
      "source": [
        "# Длина текстов\n",
        "train_df['text_length'] = train_df['text'].apply(len)\n",
        "sns.histplot(train_df['text_length'], bins=30, kde=True)\n",
        "plt.title('Распределение длины текстов в тренировочном наборе')\n",
        "plt.xlabel('Длина текста')\n",
        "plt.ylabel('Количество')\n",
        "plt.show()"
      ]
    },
    {
      "cell_type": "code",
      "source": [
        "# Посмотрим на количество уникальных слов в тексте\n",
        "train_df['unique_word_count'] = train_df['text'].apply(lambda x: len(set(x.split())))\n",
        "sns.histplot(train_df['unique_word_count'], bins=30, kde=True)\n",
        "plt.title('Распределение количества уникальных слов в текстах')\n",
        "plt.xlabel('Количество уникальных слов')\n",
        "plt.ylabel('Количество')\n",
        "plt.show()"
      ],
      "metadata": {
        "colab": {
          "base_uri": "https://localhost:8080/",
          "height": 472
        },
        "id": "M-R4HjdVCiez",
        "outputId": "4bffa8f5-bfe8-47e4-f72d-73922de80067"
      },
      "id": "M-R4HjdVCiez",
      "execution_count": null,
      "outputs": [
        {
          "output_type": "display_data",
          "data": {
            "text/plain": [
              "<Figure size 640x480 with 1 Axes>"
            ],
            "image/png": "[encoded data removed]"
          },
          "metadata": {}
        }
      ]
    },
    {
      "cell_type": "code",
      "source": [
        "class TextDataset(Dataset):\n",
        "    def __init__(self, dataframe, tokenizer, max_length=128):\n",
        "        self.dataframe = dataframe\n",
        "        self.tokenizer = tokenizer\n",
        "        self.max_length = max_length\n",
        "\n",
        "    def __len__(self):\n",
        "        return len(self.dataframe)\n",
        "\n",
        "    def __getitem__(self, idx):\n",
        "        text = self.dataframe.iloc[idx]['text']\n",
        "        label = self.dataframe.iloc[idx]['is_toxic']\n",
        "        encoding = self.tokenizer.encode_plus(\n",
        "            text,\n",
        "            add_special_tokens=True,\n",
        "            max_length=self.max_length,\n",
        "            return_token_type_ids=False,\n",
        "            padding='max_length',\n",
        "            truncation=True,\n",
        "            return_attention_mask=True,\n",
        "            return_tensors='pt',\n",
        "        )\n",
        "        return {\n",
        "            'input_ids': encoding['input_ids'].flatten(),\n",
        "            'attention_mask': encoding['attention_mask'].flatten(),\n",
        "            'labels': torch.tensor(label, dtype=torch.long)\n",
        "        }\n"
      ],
      "metadata": {
        "id": "syCaxvvXMk0s"
      },
      "id": "syCaxvvXMk0s",
      "execution_count": null,
      "outputs": []
    },
    {
      "cell_type": "code",
      "source": [
        "class TextClassificationTrainer:\n",
        "    def __init__(self, model, optimizer, batch_size, num_epochs, learning_rate,\n",
        "                 train_dataframe, val_dataframe, tokenizer, device='cpu',\n",
        "                 models_dir='models', early_stopping=True, save_best_only=True, patience=3, model_name=''):\n",
        "\n",
        "        self.train_dataset = TextDataset(train_dataframe, tokenizer)\n",
        "        self.val_dataset = TextDataset(val_dataframe, tokenizer)\n",
        "\n",
        "        self.model = model.to(device)\n",
        "        self.optimizer = optimizer\n",
        "        self.batch_size = batch_size\n",
        "        self.num_epochs = num_epochs\n",
        "        self.learning_rate = learning_rate\n",
        "        self.train_loader = DataLoader(self.train_dataset, batch_size=batch_size, shuffle=True)\n",
        "        self.val_loader = DataLoader(self.val_dataset, batch_size=batch_size, shuffle=False)\n",
        "        self.device = device\n",
        "        self.loss_fn = nn.CrossEntropyLoss()\n",
        "        self.tokenizer = tokenizer\n",
        "\n",
        "        self.early_stopping = early_stopping\n",
        "        self.save_best_only = save_best_only\n",
        "        self.patience = patience\n",
        "\n",
        "        self.models_dir = models_dir\n",
        "        os.makedirs(self.models_dir, exist_ok=True)\n",
        "\n",
        "        timestamp = datetime.now().strftime('%Y%m%d_%H%M%S')\n",
        "        self.run_dir = os.path.join(self.models_dir, timestamp, model_name)\n",
        "        os.makedirs(self.run_dir, exist_ok=True)\n",
        "\n",
        "        self.scheduler = get_scheduler(\n",
        "            name='linear',\n",
        "            optimizer=self.optimizer,\n",
        "            num_warmup_steps=0,\n",
        "            num_training_steps=len(self.train_loader) * self.num_epochs\n",
        "        )\n",
        "\n",
        "    def train_and_evaluate(self, continue_training=False):\n",
        "        results = []\n",
        "\n",
        "        if continue_training:\n",
        "            self.model = get_model(self.model, self.run_dir, self.device)\n",
        "\n",
        "        best_val_loss = float('inf')\n",
        "        patience_counter = 0\n",
        "\n",
        "        print()\n",
        "\n",
        "        for epoch in range(1, self.num_epochs + 1):\n",
        "            start_time = time.time()\n",
        "\n",
        "            train_loss, train_metrics = self.train_one_epoch(epoch)\n",
        "            val_loss, val_metrics = self.evaluate(epoch)\n",
        "\n",
        "            epoch_time = time.time() - start_time\n",
        "\n",
        "            result = {\n",
        "                'epoch': epoch,\n",
        "                'train_loss': train_loss,\n",
        "                'val_loss': val_loss,\n",
        "                'epoch_time_sec': round(epoch_time, 2),\n",
        "                **train_metrics,\n",
        "                **val_metrics\n",
        "            }\n",
        "            results.append(result)\n",
        "            self.save_results(results)\n",
        "\n",
        "            if self.save_best_only:\n",
        "                if val_loss < best_val_loss:\n",
        "                    best_val_loss = val_loss\n",
        "                    patience_counter = 0\n",
        "                    self.save_model(val_loss, val_metrics['val_f1_score'])\n",
        "                else:\n",
        "                    if self.early_stopping:\n",
        "                        patience_counter += 1\n",
        "                        if patience_counter >= self.patience:\n",
        "                            print(\"Early stopping: no improvement\")\n",
        "                            break\n",
        "            else:\n",
        "                self.save_model(val_loss, val_metrics['val_f1_score'], epoch=epoch)\n",
        "\n",
        "            print('-'*100)\n",
        "            print(f\"Epoch: {epoch}/{self.num_epochs:<8}\"\n",
        "                  f\"Train Loss: {train_loss:<10.4f} \"\n",
        "                  f\"Val Loss: {val_loss:<10.4f} \"\n",
        "                  f\"Val Acc: {val_metrics['val_accuracy']:<10.4f} \"\n",
        "                  f\"Val F1: {val_metrics['val_f1_score']:<10.4f} \"\n",
        "                  f\"Time: {epoch_time:.2f}s\")\n",
        "            print('-'*100)\n",
        "\n",
        "    def train_one_epoch(self, epoch):\n",
        "        self.model.train()\n",
        "        total_loss = 0\n",
        "        all_preds = []\n",
        "        all_labels = []\n",
        "\n",
        "        for batch in tqdm(self.train_loader, desc=f\"Training epoch {epoch}\", colour='green'):\n",
        "            inputs = batch['input_ids'].to(self.device)\n",
        "            masks = batch['attention_mask'].to(self.device)\n",
        "            labels = batch['labels'].to(self.device)\n",
        "\n",
        "            self.optimizer.zero_grad()\n",
        "            outputs = self.model(input_ids=inputs, attention_mask=masks).logits\n",
        "            loss = self.loss_fn(outputs, labels)\n",
        "            loss.backward()\n",
        "            self.optimizer.step()\n",
        "            self.scheduler.step()\n",
        "\n",
        "            total_loss += loss.item()\n",
        "            preds = torch.argmax(outputs, dim=1)\n",
        "            all_preds.extend(preds.cpu().numpy())\n",
        "            all_labels.extend(labels.cpu().numpy())\n",
        "\n",
        "        train_metrics = self.compute_metrics(all_labels, all_preds, prefix='train_')\n",
        "        return total_loss / len(self.train_loader), train_metrics\n",
        "\n",
        "    def evaluate(self, epoch):\n",
        "        self.model.eval()\n",
        "        total_loss = 0\n",
        "        all_preds = []\n",
        "        all_labels = []\n",
        "\n",
        "        with torch.no_grad():\n",
        "            for batch in tqdm(self.val_loader, desc=f\"Validation epoch {epoch}\", colour='red'):\n",
        "                inputs = batch['input_ids'].to(self.device)\n",
        "                masks = batch['attention_mask'].to(self.device)\n",
        "                labels = batch['labels'].to(self.device)\n",
        "                outputs = self.model(input_ids=inputs, attention_mask=masks).logits\n",
        "                loss = self.loss_fn(outputs, labels)\n",
        "                total_loss += loss.item()\n",
        "\n",
        "                preds = torch.argmax(outputs, dim=1)\n",
        "                all_preds.extend(preds.cpu().numpy())\n",
        "                all_labels.extend(labels.cpu().numpy())\n",
        "\n",
        "        val_metrics = self.compute_metrics(all_labels, all_preds, prefix='val_')\n",
        "        return total_loss / len(self.val_loader), val_metrics\n",
        "\n",
        "    def compute_metrics(self, labels, preds, prefix=''):\n",
        "        accuracy = accuracy_score(labels, preds)\n",
        "        f1 = f1_score(labels, preds, average='weighted', zero_division=1)\n",
        "        precision = precision_score(labels, preds, average='weighted', zero_division=1)\n",
        "        recall = recall_score(labels, preds, average='weighted', zero_division=1)\n",
        "        return {\n",
        "            f'{prefix}accuracy': accuracy,\n",
        "            f'{prefix}f1_score': f1,\n",
        "            f'{prefix}precision': precision,\n",
        "            f'{prefix}recall': recall\n",
        "        }\n",
        "\n",
        "    def save_results(self, results):\n",
        "        df = pd.DataFrame(results)\n",
        "        self.results_df = df\n",
        "        results_path = os.path.join(self.run_dir, 'training_results.csv')\n",
        "        df.to_csv(results_path, index=False)\n",
        "\n",
        "    def save_model(self, val_loss, val_f1, epoch=None):\n",
        "        if self.save_best_only:\n",
        "            model_filename = 'best_model.pt'\n",
        "        else:\n",
        "            model_filename = f'model_epoch_{epoch}_loss_{val_loss:.4f}_f1_{val_f1:.4f}.pt'\n",
        "\n",
        "        model_path = os.path.join(self.run_dir, model_filename)\n",
        "        torch.save(self.model.state_dict(), model_path)\n",
        "\n",
        "    def predict_text(self, text, probability=False):\n",
        "        self.model.eval()\n",
        "        inputs = self.tokenizer(text, return_tensors=\"pt\", truncation=True, padding=True, max_length=128)\n",
        "\n",
        "        # Убираем token_type_ids, если он есть\n",
        "        inputs = {k: v.to(self.device) for k, v in inputs.items() if k != \"token_type_ids\"}\n",
        "\n",
        "        with torch.no_grad():\n",
        "            outputs = self.model(**inputs).logits\n",
        "            probs = torch.softmax(outputs, dim=1)\n",
        "            pred = torch.argmax(probs, dim=1).item()\n",
        "            if probability:\n",
        "                return pred, probs[0][1].item()\n",
        "            else:\n",
        "                return pred\n",
        "\n",
        "    def predict_batch(self, texts, probability=False):\n",
        "        self.model.eval()\n",
        "        results = []\n",
        "        for text in texts:\n",
        "            inputs = self.tokenizer(text, return_tensors=\"pt\", truncation=True, padding=True, max_length=128)\n",
        "            inputs = {k: v.to(self.device) for k, v in inputs.items() if k != \"token_type_ids\"}\n",
        "\n",
        "            with torch.no_grad():\n",
        "                outputs = self.model(**inputs).logits\n",
        "                probs = torch.softmax(outputs, dim=1)\n",
        "                pred = torch.argmax(probs, dim=1).item()\n",
        "                if probability:\n",
        "                    results.append((pred, probs[0][1].item()))\n",
        "                else:\n",
        "                    results.append(pred)\n",
        "        return results\n"
      ],
      "metadata": {
        "id": "Fm8x3JPnTANM"
      },
      "id": "Fm8x3JPnTANM",
      "execution_count": null,
      "outputs": []
    },
    {
      "cell_type": "code",
      "source": [
        "def get_model(model, model_dir, device='cpu', model_filename='best_model.pt'):\n",
        "    model_path = os.path.join(model_dir, model_filename)\n",
        "    model.load_state_dict(torch.load(model_path, map_location=device))\n",
        "    model.to(device)\n",
        "    model.eval()\n",
        "    print(f\"Model loaded from {model_path}\")\n",
        "    return model\n",
        "\n",
        "\n",
        "def plot_training_curves(results_path, metric='accuracy'):\n",
        "    df = pd.read_csv(results_path)\n",
        "    epochs = df['epoch']\n",
        "\n",
        "    plt.figure(figsize=(12, 5))\n",
        "\n",
        "    # --- График 1: LOSS ---\n",
        "    plt.subplot(1, 2, 1)\n",
        "    if 'train_loss' in df.columns:\n",
        "        plt.plot(epochs, df['train_loss'], label='Train Loss')\n",
        "    if 'val_loss' in df.columns:\n",
        "        plt.plot(epochs, df['val_loss'], label='Val Loss')\n",
        "    plt.xlabel('Epoch')\n",
        "    plt.ylabel('Loss')\n",
        "    plt.title('Loss Curve')\n",
        "    plt.legend()\n",
        "    plt.grid(True)\n",
        "\n",
        "    # --- График 2: Выбранная метрика ---\n",
        "    plt.subplot(1, 2, 2)\n",
        "    train_metric = f'train_{metric}'\n",
        "    val_metric = f'val_{metric}'\n",
        "\n",
        "    if train_metric in df.columns:\n",
        "        plt.plot(epochs, df[train_metric], label='Train')\n",
        "    if val_metric in df.columns:\n",
        "        plt.plot(epochs, df[val_metric], label='Validation')\n",
        "\n",
        "    plt.xlabel('Epoch')\n",
        "    plt.ylabel(metric.replace('_', ' ').capitalize())\n",
        "    plt.title(f'{metric.replace(\"_\", \" \").capitalize()} Curve')\n",
        "    plt.ylim(0.5, 1)\n",
        "    plt.legend()\n",
        "    plt.grid(True)\n",
        "\n",
        "    plt.tight_layout()\n",
        "    plt.show()\n",
        "\n"
      ],
      "metadata": {
        "id": "nilmx22MTAKU"
      },
      "id": "nilmx22MTAKU",
      "execution_count": null,
      "outputs": []
    },
    {
      "cell_type": "markdown",
      "source": [
        "## DeepPavlov/rubert-base-cased"
      ],
      "metadata": {
        "id": "1WzR0IDxX3IQ"
      },
      "id": "1WzR0IDxX3IQ"
    },
    {
      "cell_type": "code",
      "source": [
        "from transformers import AutoModelForSequenceClassification, AutoTokenizer\n",
        "from torch.optim import AdamW\n",
        "model_name = 'DeepPavlov/rubert-base-cased'\n",
        "\n",
        "model = AutoModelForSequenceClassification.from_pretrained(model_name, num_labels=2)\n",
        "tokenizer = AutoTokenizer.from_pretrained(model_name)\n",
        "\n",
        "optimizer = AdamW(model.parameters(), lr=2e-5)\n",
        "\n",
        "trainer = TextClassificationTrainer(\n",
        "    model=model,\n",
        "    optimizer=optimizer,\n",
        "    batch_size=384,\n",
        "    num_epochs=50,\n",
        "    learning_rate=2e-5,\n",
        "    train_dataframe=train_df,\n",
        "    val_dataframe=val_df,\n",
        "    tokenizer=tokenizer,\n",
        "    device=DEVICE,\n",
        "    models_dir=MODELS_PATH,\n",
        "    model_name='DeepPavlov_ruBert_base'\n",
        ")\n",
        "trainer.train_and_evaluate()"
      ],
      "metadata": {
        "colab": {
          "base_uri": "https://localhost:8080/"
        },
        "id": "hn3dNR68X2sY",
        "outputId": "280efd72-d56b-49fd-fda2-09df59a48ecd"
      },
      "id": "hn3dNR68X2sY",
      "execution_count": null,
      "outputs": [
        {
          "output_type": "stream",
          "name": "stderr",
          "text": [
            "/usr/local/lib/python3.11/dist-packages/huggingface_hub/utils/_auth.py:94: UserWarning: \n",
            "The secret `HF_TOKEN` does not exist in your Colab secrets.\n",
            "To authenticate with the Hugging Face Hub, create a token in your settings tab (https://huggingface.co/settings/tokens), set it as secret in your Google Colab and restart your session.\n",
            "You will be able to reuse this secret in all of your notebooks.\n",
            "Please note that authentication is recommended but still optional to access public models or datasets.\n",
            "  warnings.warn(\n",
            "Some weights of BertForSequenceClassification were not initialized from the model checkpoint at DeepPavlov/rubert-base-cased and are newly initialized: ['classifier.bias', 'classifier.weight']\n",
            "You should probably TRAIN this model on a down-stream task to be able to use it for predictions and inference.\n"
          ]
        },
        {
          "output_type": "stream",
          "name": "stdout",
          "text": [
            "\n"
          ]
        },
        {
          "output_type": "stream",
          "name": "stderr",
          "text": [
            "Training epoch 1: 100%|\u001b[32m██████████\u001b[0m| 532/532 [14:51<00:00,  1.68s/it]\n",
            "Validation epoch 1: 100%|\u001b[31m██████████\u001b[0m| 67/67 [00:43<00:00,  1.55it/s]\n"
          ]
        },
        {
          "output_type": "stream",
          "name": "stdout",
          "text": [
            "----------------------------------------------------------------------------------------------------\n",
            "Epoch: 1/50      Train Loss: 0.1112     Val Loss: 0.0671     Val Acc: 0.9760     Val F1: 0.9759     Time: 935.55s\n",
            "----------------------------------------------------------------------------------------------------\n"
          ]
        },
        {
          "output_type": "stream",
          "name": "stderr",
          "text": [
            "Training epoch 2: 100%|\u001b[32m██████████\u001b[0m| 532/532 [14:53<00:00,  1.68s/it]\n",
            "Validation epoch 2: 100%|\u001b[31m██████████\u001b[0m| 67/67 [00:43<00:00,  1.54it/s]\n"
          ]
        },
        {
          "output_type": "stream",
          "name": "stdout",
          "text": [
            "----------------------------------------------------------------------------------------------------\n",
            "Epoch: 2/50      Train Loss: 0.0547     Val Loss: 0.0669     Val Acc: 0.9766     Val F1: 0.9766     Time: 937.42s\n",
            "----------------------------------------------------------------------------------------------------\n"
          ]
        },
        {
          "output_type": "stream",
          "name": "stderr",
          "text": [
            "Training epoch 3: 100%|\u001b[32m██████████\u001b[0m| 532/532 [14:52<00:00,  1.68s/it]\n",
            "Validation epoch 3: 100%|\u001b[31m██████████\u001b[0m| 67/67 [00:43<00:00,  1.54it/s]\n"
          ]
        },
        {
          "output_type": "stream",
          "name": "stdout",
          "text": [
            "----------------------------------------------------------------------------------------------------\n",
            "Epoch: 3/50      Train Loss: 0.0376     Val Loss: 0.0796     Val Acc: 0.9747     Val F1: 0.9749     Time: 937.27s\n",
            "----------------------------------------------------------------------------------------------------\n"
          ]
        },
        {
          "output_type": "stream",
          "name": "stderr",
          "text": [
            "Training epoch 4: 100%|\u001b[32m██████████\u001b[0m| 532/532 [14:53<00:00,  1.68s/it]\n",
            "Validation epoch 4: 100%|\u001b[31m██████████\u001b[0m| 67/67 [00:43<00:00,  1.54it/s]\n"
          ]
        },
        {
          "output_type": "stream",
          "name": "stdout",
          "text": [
            "----------------------------------------------------------------------------------------------------\n",
            "Epoch: 4/50      Train Loss: 0.0251     Val Loss: 0.0888     Val Acc: 0.9698     Val F1: 0.9704     Time: 937.60s\n",
            "----------------------------------------------------------------------------------------------------\n"
          ]
        },
        {
          "output_type": "stream",
          "name": "stderr",
          "text": [
            "Training epoch 5: 100%|\u001b[32m██████████\u001b[0m| 532/532 [14:52<00:00,  1.68s/it]\n",
            "Validation epoch 5: 100%|\u001b[31m██████████\u001b[0m| 67/67 [00:43<00:00,  1.53it/s]\n"
          ]
        },
        {
          "output_type": "stream",
          "name": "stdout",
          "text": [
            "----------------------------------------------------------------------------------------------------\n",
            "Epoch: 5/50      Train Loss: 0.0164     Val Loss: 0.0976     Val Acc: 0.9761     Val F1: 0.9761     Time: 936.89s\n",
            "----------------------------------------------------------------------------------------------------\n"
          ]
        },
        {
          "output_type": "stream",
          "name": "stderr",
          "text": [
            "Training epoch 6: 100%|\u001b[32m██████████\u001b[0m| 532/532 [14:52<00:00,  1.68s/it]\n",
            "Validation epoch 6: 100%|\u001b[31m██████████\u001b[0m| 67/67 [00:43<00:00,  1.54it/s]"
          ]
        },
        {
          "output_type": "stream",
          "name": "stdout",
          "text": [
            "Early stopping: no improvement\n"
          ]
        },
        {
          "output_type": "stream",
          "name": "stderr",
          "text": [
            "\n"
          ]
        }
      ]
    },
    {
      "cell_type": "code",
      "source": [
        "results_path = os.path.join(trainer.run_dir, 'training_results.csv')\n",
        "plot_training_curves(results_path)"
      ],
      "metadata": {
        "colab": {
          "base_uri": "https://localhost:8080/",
          "height": 507
        },
        "id": "DWObf3ODX6LO",
        "outputId": "49b5e5b5-24f6-48d2-99bd-4afec21eb32c"
      },
      "id": "DWObf3ODX6LO",
      "execution_count": null,
      "outputs": [
        {
          "output_type": "display_data",
          "data": {
            "text/plain": [
              "<Figure size 1200x500 with 2 Axes>"
            ],
            "image/png": "[encoded data removed]"
          },
          "metadata": {}
        }
      ]
    },
    {
      "cell_type": "code",
      "source": [
        "val_ds = TextDataset(test_df, tokenizer)\n",
        "\n",
        "for _ in range(10):\n",
        "    i = random.randint(0, len(val_ds) - 1)\n",
        "    item = val_ds[i]\n",
        "    text = tokenizer.decode(item['input_ids'].tolist(), skip_special_tokens=True)\n",
        "    label = item['labels'].item()\n",
        "    pred = trainer.predict_text(text)\n",
        "    print(f\"Text: {text}\\nTrue: {label}, Pred: {pred}\\n{'-'*60}\")"
      ],
      "metadata": {
        "colab": {
          "base_uri": "https://localhost:8080/"
        },
        "id": "ARLIxVW-X6IG",
        "outputId": "02592f9f-55e0-4f94-8132-dd907fca4d75"
      },
      "id": "ARLIxVW-X6IG",
      "execution_count": null,
      "outputs": [
        {
          "output_type": "stream",
          "name": "stdout",
          "text": [
            "Text: а с кошкой? с кошкой будет в порядке?!!!\n",
            "True: 0, Pred: 0\n",
            "------------------------------------------------------------\n",
            "Text: что ты можешь сделать уебок если видео даже слепить не можешь\n",
            "True: 1, Pred: 1\n",
            "------------------------------------------------------------\n",
            "Text: хороший состав был.\n",
            "True: 0, Pred: 0\n",
            "------------------------------------------------------------\n",
            "Text: спасибо всем, кошечка нашлась.\n",
            "True: 0, Pred: 0\n",
            "------------------------------------------------------------\n",
            "Text: да не будет их походу, нам сегодня : (\n",
            "True: 0, Pred: 0\n",
            "------------------------------------------------------------\n",
            "Text: Хули меня искать, я и не скрываюсь, петуч, готов отстоять честь своего поросенка, пустозвон ёбаный?\n",
            "True: 1, Pred: 1\n",
            "------------------------------------------------------------\n",
            "Text: К сожалению, это то немногое, за что их можно похвалить. Когда играл не отпускало ощущение дешевизны. И, вроде бы, и не то чтобы плохо, а всё же без души сделано.\n",
            "True: 0, Pred: 0\n",
            "------------------------------------------------------------\n",
            "Text: бесмертный\n",
            "True: 0, Pred: 0\n",
            "------------------------------------------------------------\n",
            "Text: это не варанкин. пшеничников валя. пузиков ж.\n",
            "True: 0, Pred: 0\n",
            "------------------------------------------------------------\n",
            "Text: стоило сказать кто ты, и с каждым комментарием доказываешь мою правоту. ты пидор, с тебя больше взять не чего.\n",
            "True: 1, Pred: 1\n",
            "------------------------------------------------------------\n"
          ]
        }
      ]
    },
    {
      "cell_type": "markdown",
      "source": [
        "## sberbank-ai/ruBert-base"
      ],
      "metadata": {
        "id": "t4YFSDvpQMbo"
      },
      "id": "t4YFSDvpQMbo"
    },
    {
      "cell_type": "code",
      "source": [
        "model_name = 'sberbank-ai/ruBert-base'\n",
        "\n",
        "model = AutoModelForSequenceClassification.from_pretrained(model_name, num_labels=2)\n",
        "tokenizer = AutoTokenizer.from_pretrained(model_name)\n",
        "\n",
        "optimizer = AdamW(model.parameters(), lr=2e-5)\n",
        "\n",
        "trainer = TextClassificationTrainer(\n",
        "    model=model,\n",
        "    optimizer=optimizer,\n",
        "    batch_size=384,\n",
        "    num_epochs=50,\n",
        "    learning_rate=2e-5,\n",
        "    train_dataframe=train_df,\n",
        "    val_dataframe=val_df,\n",
        "    tokenizer=tokenizer,\n",
        "    device=DEVICE,\n",
        "    models_dir=MODELS_PATH,\n",
        "    model_name='sberbank_ai_ruBert_base'\n",
        ")\n",
        "trainer.train_and_evaluate()"
      ],
      "metadata": {
        "colab": {
          "base_uri": "https://localhost:8080/",
          "height": 564,
          "referenced_widgets": [
            "fd5bde0daf07478b8f9543310918011d",
            "96f4b0189a8846ababab341436dc9a94",
            "3cb6ca02333a4f43ad89c0f2bbfcd30f",
            "6c51217ed3594dfcae346302142cae1b",
            "c85d6d53267e4c988614a2105e4c0536",
            "aee63abe8b254f3999044dae92714775",
            "66f0586b0abd436a87f0d89c99eae715",
            "45d4917193514ac9b291d88ef061cfbc",
            "19389e6bb0e449a2a5abee73052c6e3f",
            "34dd50188c5541768f641174ddac84aa",
            "04f79c7617c34eed94783d6fe9eb4402",
            "656b3dee6b7c44f48b3a0448c8e19a65",
            "51473cabef3248f08e541cb1d3a7af78",
            "aaab6d9f9f1e41ca9e446d6bba653a40",
            "36575693de46431488d9168d83036adc",
            "7346be129a9f46bb9d7c3aa66964580b",
            "d421e28cc53246e6bb4a7969411186ac",
            "068a00d15e1d47a3b5b46bfe1bee906b",
            "2cbd61897caa42e8b8c0f7cb4aeff359",
            "55cc1d2fe76f4269901c8194251c83e4",
            "99bdb907265a43f1a35ea6e6750c30ce",
            "5265656018884bb8acda207a67668ff7",
            "33fb062318184aaca8ab942f3ee5a95a",
            "c630aaf94e97466abcf1b67eceedb760",
            "6b718db3ae304d5593c5c1cabce80dda",
            "16557eff20b242fa8144db6c1fbf63ff",
            "1229ff8387c940c081ba966e891adc35",
            "8ac02e9f3df547fb9e917b6c143a0c3a",
            "413cd4e74fbf470392aad57d3b8c96c2",
            "7205a345e5044973b41a1a3707a2c5b5",
            "be3307686d0942e98dc1fcbc3736f6c0",
            "551864a73fe943748afcbfd24931de07",
            "34f2ffb9edf84c988ad868eb4ac75495"
          ]
        },
        "id": "2y4seSNEQBZe",
        "outputId": "d14cc2a8-3239-4197-ec71-92033380d83a"
      },
      "id": "2y4seSNEQBZe",
      "execution_count": null,
      "outputs": [
        {
          "data": {
            "application/vnd.jupyter.widget-view+json": {
              "model_id": "fd5bde0daf07478b8f9543310918011d",
              "version_major": 2,
              "version_minor": 0
            },
            "text/plain": [
              "config.json:   0%|          | 0.00/590 [00:00<?, ?B/s]"
            ]
          },
          "metadata": {},
          "output_type": "display_data"
        },
        {
          "data": {
            "application/vnd.jupyter.widget-view+json": {
              "model_id": "656b3dee6b7c44f48b3a0448c8e19a65",
              "version_major": 2,
              "version_minor": 0
            },
            "text/plain": [
              "pytorch_model.bin:   0%|          | 0.00/716M [00:00<?, ?B/s]"
            ]
          },
          "metadata": {},
          "output_type": "display_data"
        },
        {
          "metadata": {
            "tags": null
          },
          "name": "stderr",
          "output_type": "stream",
          "text": [
            "Some weights of BertForSequenceClassification were not initialized from the model checkpoint at sberbank-ai/ruBert-base and are newly initialized: ['classifier.bias', 'classifier.weight']\n",
            "You should probably TRAIN this model on a down-stream task to be able to use it for predictions and inference.\n"
          ]
        },
        {
          "data": {
            "application/vnd.jupyter.widget-view+json": {
              "model_id": "33fb062318184aaca8ab942f3ee5a95a",
              "version_major": 2,
              "version_minor": 0
            },
            "text/plain": [
              "vocab.txt:   0%|          | 0.00/1.78M [00:00<?, ?B/s]"
            ]
          },
          "metadata": {},
          "output_type": "display_data"
        },
        {
          "metadata": {
            "tags": null
          },
          "name": "stdout",
          "output_type": "stream",
          "text": [
            "\n"
          ]
        },
        {
          "metadata": {
            "tags": null
          },
          "name": "stderr",
          "output_type": "stream",
          "text": [
            "Training epoch 1: 100%|\u001b[32m██████████\u001b[0m| 532/532 [14:56<00:00,  1.69s/it]\n",
            "Validation epoch 1: 100%|\u001b[31m██████████\u001b[0m| 67/67 [00:43<00:00,  1.53it/s]\n"
          ]
        },
        {
          "metadata": {
            "tags": null
          },
          "name": "stdout",
          "output_type": "stream",
          "text": [
            "----------------------------------------------------------------------------------------------------\n",
            "Epoch: 1/50      Train Loss: 0.0954     Val Loss: 0.0700     Val Acc: 0.9763     Val F1: 0.9762     Time: 941.13s\n",
            "----------------------------------------------------------------------------------------------------\n"
          ]
        },
        {
          "output_type": "stream",
          "name": "stderr",
          "text": [
            "Training epoch 2: 100%|\u001b[32m██████████\u001b[0m| 532/532 [14:57<00:00,  1.69s/it]\n",
            "Validation epoch 2: 100%|\u001b[31m██████████\u001b[0m| 67/67 [00:43<00:00,  1.53it/s]\n"
          ]
        },
        {
          "output_type": "stream",
          "name": "stdout",
          "text": [
            "----------------------------------------------------------------------------------------------------\n",
            "Epoch: 2/50      Train Loss: 0.0566     Val Loss: 0.0714     Val Acc: 0.9772     Val F1: 0.9770     Time: 941.81s\n",
            "----------------------------------------------------------------------------------------------------\n"
          ]
        },
        {
          "output_type": "stream",
          "name": "stderr",
          "text": [
            "Training epoch 3: 100%|\u001b[32m██████████\u001b[0m| 532/532 [14:56<00:00,  1.69s/it]\n",
            "Validation epoch 3: 100%|\u001b[31m██████████\u001b[0m| 67/67 [00:43<00:00,  1.53it/s]\n"
          ]
        },
        {
          "output_type": "stream",
          "name": "stdout",
          "text": [
            "----------------------------------------------------------------------------------------------------\n",
            "Epoch: 3/50      Train Loss: 0.0374     Val Loss: 0.0762     Val Acc: 0.9755     Val F1: 0.9755     Time: 941.23s\n",
            "----------------------------------------------------------------------------------------------------\n"
          ]
        },
        {
          "output_type": "stream",
          "name": "stderr",
          "text": [
            "Training epoch 4: 100%|\u001b[32m██████████\u001b[0m| 532/532 [14:56<00:00,  1.69s/it]\n",
            "Validation epoch 4: 100%|\u001b[31m██████████\u001b[0m| 67/67 [00:43<00:00,  1.53it/s]\n"
          ]
        },
        {
          "output_type": "stream",
          "name": "stdout",
          "text": [
            "----------------------------------------------------------------------------------------------------\n",
            "Epoch: 4/50      Train Loss: 0.0209     Val Loss: 0.0945     Val Acc: 0.9739     Val F1: 0.9739     Time: 941.30s\n",
            "----------------------------------------------------------------------------------------------------\n"
          ]
        },
        {
          "output_type": "stream",
          "name": "stderr",
          "text": [
            "Training epoch 5: 100%|\u001b[32m██████████\u001b[0m| 532/532 [14:57<00:00,  1.69s/it]\n",
            "Validation epoch 5: 100%|\u001b[31m██████████\u001b[0m| 67/67 [00:43<00:00,  1.53it/s]"
          ]
        },
        {
          "output_type": "stream",
          "name": "stdout",
          "text": [
            "Early stopping: no improvement\n"
          ]
        },
        {
          "output_type": "stream",
          "name": "stderr",
          "text": [
            "\n"
          ]
        }
      ]
    },
    {
      "cell_type": "code",
      "source": [
        "results_path = os.path.join(trainer.run_dir, 'training_results.csv')\n",
        "plot_training_curves(results_path)"
      ],
      "metadata": {
        "id": "mU-PglYeQBRB",
        "colab": {
          "base_uri": "https://localhost:8080/",
          "height": 507
        },
        "outputId": "5ba7137b-44dd-41d0-baf0-589718c69c0e"
      },
      "id": "mU-PglYeQBRB",
      "execution_count": null,
      "outputs": [
        {
          "output_type": "display_data",
          "data": {
            "text/plain": [
              "<Figure size 1200x500 with 2 Axes>"
            ],
            "image/png": "[encoded data removed]"
          },
          "metadata": {}
        }
      ]
    },
    {
      "cell_type": "code",
      "source": [
        "val_ds = TextDataset(test_df, tokenizer)\n",
        "\n",
        "for _ in range(10):\n",
        "    i = random.randint(0, len(val_ds) - 1)\n",
        "    item = val_ds[i]\n",
        "    text = tokenizer.decode(item['input_ids'].tolist(), skip_special_tokens=True)\n",
        "    label = item['labels'].item()\n",
        "    pred = trainer.predict_text(text)\n",
        "    print(f\"Text: {text}\\nTrue: {label}, Pred: {pred}\\n{'-'*60}\")"
      ],
      "metadata": {
        "id": "3psflAjlQA0U"
      },
      "id": "3psflAjlQA0U",
      "execution_count": null,
      "outputs": []
    },
    {
      "cell_type": "markdown",
      "source": [
        "## cointegrated/rubert-tiny2"
      ],
      "metadata": {
        "id": "omMBvMfRQSQg"
      },
      "id": "omMBvMfRQSQg"
    },
    {
      "cell_type": "code",
      "source": [
        "model_name = \"cointegrated/rubert-tiny2\"\n",
        "\n",
        "model = AutoModelForSequenceClassification.from_pretrained(model_name, num_labels=2)\n",
        "tokenizer = AutoTokenizer.from_pretrained(model_name)\n",
        "\n",
        "optimizer = AdamW(model.parameters(), lr=2e-5)\n",
        "\n",
        "trainer = TextClassificationTrainer(\n",
        "    model=model,\n",
        "    optimizer=optimizer,\n",
        "    batch_size=2048,\n",
        "    num_epochs=50,\n",
        "    learning_rate=2e-5,\n",
        "    train_dataframe=train_df,\n",
        "    val_dataframe=val_df,\n",
        "    tokenizer=tokenizer,\n",
        "    device=DEVICE,\n",
        "    models_dir=MODELS_PATH,\n",
        "    patience=5,\n",
        "    model_name='cointegrated_rubert_tiny2'\n",
        ")\n",
        "trainer.train_and_evaluate()"
      ],
      "metadata": {
        "colab": {
          "base_uri": "https://localhost:8080/"
        },
        "id": "gOA-hAQzTrTj",
        "outputId": "81d52122-4288-4edf-e27b-cf6e8318284c"
      },
      "id": "gOA-hAQzTrTj",
      "execution_count": null,
      "outputs": [
        {
          "output_type": "stream",
          "name": "stderr",
          "text": [
            "/usr/local/lib/python3.11/dist-packages/huggingface_hub/utils/_auth.py:94: UserWarning: \n",
            "The secret `HF_TOKEN` does not exist in your Colab secrets.\n",
            "To authenticate with the Hugging Face Hub, create a token in your settings tab (https://huggingface.co/settings/tokens), set it as secret in your Google Colab and restart your session.\n",
            "You will be able to reuse this secret in all of your notebooks.\n",
            "Please note that authentication is recommended but still optional to access public models or datasets.\n",
            "  warnings.warn(\n",
            "Some weights of BertForSequenceClassification were not initialized from the model checkpoint at cointegrated/rubert-tiny2 and are newly initialized: ['classifier.bias', 'classifier.weight']\n",
            "You should probably TRAIN this model on a down-stream task to be able to use it for predictions and inference.\n"
          ]
        },
        {
          "output_type": "stream",
          "name": "stdout",
          "text": [
            "\n"
          ]
        },
        {
          "output_type": "stream",
          "name": "stderr",
          "text": [
            "Training epoch 1: 100%|\u001b[32m██████████\u001b[0m| 399/399 [04:23<00:00,  1.51it/s]\n",
            "Validation epoch 1: 100%|\u001b[31m██████████\u001b[0m| 50/50 [00:18<00:00,  2.74it/s]\n"
          ]
        },
        {
          "output_type": "stream",
          "name": "stdout",
          "text": [
            "----------------------------------------------------------------------------------------------------\n",
            "Epoch: 1/50      Train Loss: 0.2148     Val Loss: 0.1019     Val Acc: 0.9632     Val F1: 0.9629     Time: 282.44s\n",
            "----------------------------------------------------------------------------------------------------\n"
          ]
        },
        {
          "output_type": "stream",
          "name": "stderr",
          "text": [
            "Training epoch 2: 100%|\u001b[32m██████████\u001b[0m| 399/399 [04:30<00:00,  1.47it/s]\n",
            "Validation epoch 2: 100%|\u001b[31m██████████\u001b[0m| 50/50 [00:18<00:00,  2.74it/s]\n"
          ]
        },
        {
          "output_type": "stream",
          "name": "stdout",
          "text": [
            "----------------------------------------------------------------------------------------------------\n",
            "Epoch: 2/50      Train Loss: 0.0934     Val Loss: 0.0861     Val Acc: 0.9693     Val F1: 0.9691     Time: 289.93s\n",
            "----------------------------------------------------------------------------------------------------\n"
          ]
        },
        {
          "output_type": "stream",
          "name": "stderr",
          "text": [
            "Training epoch 3: 100%|\u001b[32m██████████\u001b[0m| 399/399 [04:30<00:00,  1.48it/s]\n",
            "Validation epoch 3: 100%|\u001b[31m██████████\u001b[0m| 50/50 [00:17<00:00,  2.84it/s]\n"
          ]
        },
        {
          "output_type": "stream",
          "name": "stdout",
          "text": [
            "----------------------------------------------------------------------------------------------------\n",
            "Epoch: 3/50      Train Loss: 0.0765     Val Loss: 0.0797     Val Acc: 0.9716     Val F1: 0.9714     Time: 289.14s\n",
            "----------------------------------------------------------------------------------------------------\n"
          ]
        },
        {
          "output_type": "stream",
          "name": "stderr",
          "text": [
            "Training epoch 4: 100%|\u001b[32m██████████\u001b[0m| 399/399 [04:30<00:00,  1.47it/s]\n",
            "Validation epoch 4: 100%|\u001b[31m██████████\u001b[0m| 50/50 [00:17<00:00,  2.84it/s]\n"
          ]
        },
        {
          "output_type": "stream",
          "name": "stdout",
          "text": [
            "----------------------------------------------------------------------------------------------------\n",
            "Epoch: 4/50      Train Loss: 0.0659     Val Loss: 0.0776     Val Acc: 0.9726     Val F1: 0.9724     Time: 289.11s\n",
            "----------------------------------------------------------------------------------------------------\n"
          ]
        },
        {
          "output_type": "stream",
          "name": "stderr",
          "text": [
            "Training epoch 5: 100%|\u001b[32m██████████\u001b[0m| 399/399 [04:28<00:00,  1.49it/s]\n",
            "Validation epoch 5: 100%|\u001b[31m██████████\u001b[0m| 50/50 [00:17<00:00,  2.81it/s]\n"
          ]
        },
        {
          "output_type": "stream",
          "name": "stdout",
          "text": [
            "----------------------------------------------------------------------------------------------------\n",
            "Epoch: 5/50      Train Loss: 0.0578     Val Loss: 0.0839     Val Acc: 0.9694     Val F1: 0.9697     Time: 287.17s\n",
            "----------------------------------------------------------------------------------------------------\n"
          ]
        },
        {
          "output_type": "stream",
          "name": "stderr",
          "text": [
            "Training epoch 6: 100%|\u001b[32m██████████\u001b[0m| 399/399 [04:27<00:00,  1.49it/s]\n",
            "Validation epoch 6: 100%|\u001b[31m██████████\u001b[0m| 50/50 [00:17<00:00,  2.85it/s]\n"
          ]
        },
        {
          "output_type": "stream",
          "name": "stdout",
          "text": [
            "----------------------------------------------------------------------------------------------------\n",
            "Epoch: 6/50      Train Loss: 0.0512     Val Loss: 0.0796     Val Acc: 0.9712     Val F1: 0.9714     Time: 285.90s\n",
            "----------------------------------------------------------------------------------------------------\n"
          ]
        },
        {
          "output_type": "stream",
          "name": "stderr",
          "text": [
            "Training epoch 7: 100%|\u001b[32m██████████\u001b[0m| 399/399 [04:27<00:00,  1.49it/s]\n",
            "Validation epoch 7: 100%|\u001b[31m██████████\u001b[0m| 50/50 [00:17<00:00,  2.86it/s]\n"
          ]
        },
        {
          "output_type": "stream",
          "name": "stdout",
          "text": [
            "----------------------------------------------------------------------------------------------------\n",
            "Epoch: 7/50      Train Loss: 0.0453     Val Loss: 0.0789     Val Acc: 0.9724     Val F1: 0.9725     Time: 285.62s\n",
            "----------------------------------------------------------------------------------------------------\n"
          ]
        },
        {
          "output_type": "stream",
          "name": "stderr",
          "text": [
            "Training epoch 8: 100%|\u001b[32m██████████\u001b[0m| 399/399 [04:27<00:00,  1.49it/s]\n",
            "Validation epoch 8: 100%|\u001b[31m██████████\u001b[0m| 50/50 [00:17<00:00,  2.88it/s]\n"
          ]
        },
        {
          "output_type": "stream",
          "name": "stdout",
          "text": [
            "----------------------------------------------------------------------------------------------------\n",
            "Epoch: 8/50      Train Loss: 0.0393     Val Loss: 0.0821     Val Acc: 0.9727     Val F1: 0.9728     Time: 285.19s\n",
            "----------------------------------------------------------------------------------------------------\n"
          ]
        },
        {
          "output_type": "stream",
          "name": "stderr",
          "text": [
            "Training epoch 9: 100%|\u001b[32m██████████\u001b[0m| 399/399 [04:27<00:00,  1.49it/s]\n",
            "Validation epoch 9: 100%|\u001b[31m██████████\u001b[0m| 50/50 [00:17<00:00,  2.86it/s]\n"
          ]
        },
        {
          "output_type": "stream",
          "name": "stdout",
          "text": [
            "----------------------------------------------------------------------------------------------------\n",
            "Epoch: 9/50      Train Loss: 0.0348     Val Loss: 0.0859     Val Acc: 0.9736     Val F1: 0.9736     Time: 286.17s\n",
            "----------------------------------------------------------------------------------------------------\n"
          ]
        },
        {
          "output_type": "stream",
          "name": "stderr",
          "text": [
            "Training epoch 10: 100%|\u001b[32m██████████\u001b[0m| 399/399 [04:26<00:00,  1.50it/s]\n",
            "Validation epoch 10: 100%|\u001b[31m██████████\u001b[0m| 50/50 [00:17<00:00,  2.84it/s]"
          ]
        },
        {
          "output_type": "stream",
          "name": "stdout",
          "text": [
            "Early stopping: no improvement\n"
          ]
        },
        {
          "output_type": "stream",
          "name": "stderr",
          "text": [
            "\n"
          ]
        }
      ]
    },
    {
      "cell_type": "code",
      "source": [
        "results_path = os.path.join(trainer.run_dir, 'training_results.csv')\n",
        "plot_training_curves(results_path)"
      ],
      "metadata": {
        "colab": {
          "base_uri": "https://localhost:8080/",
          "height": 507
        },
        "id": "vBwHMaypUw6o",
        "outputId": "7e76ac59-f3d7-42f5-a00f-c113f32cfca4"
      },
      "id": "vBwHMaypUw6o",
      "execution_count": null,
      "outputs": [
        {
          "output_type": "display_data",
          "data": {
            "text/plain": [
              "<Figure size 1200x500 with 2 Axes>"
            ],
            "image/png": "[encoded data removed]"
          },
          "metadata": {}
        }
      ]
    },
    {
      "cell_type": "code",
      "source": [
        "val_ds = TextDataset(test_df, tokenizer)\n",
        "\n",
        "for _ in range(5):\n",
        "    i = random.randint(0, len(val_ds) - 1)\n",
        "    item = val_ds[i]\n",
        "    text = tokenizer.decode(item['input_ids'].tolist(), skip_special_tokens=True)\n",
        "    label = item['labels'].item()\n",
        "    pred = trainer.predict_text(text)\n",
        "    print(f\"Text: {text}\\nTrue: {label}, Pred: {pred}\\n{'-'*60}\")\n"
      ],
      "metadata": {
        "colab": {
          "base_uri": "https://localhost:8080/"
        },
        "id": "LskgIBShTAHx",
        "outputId": "9817e8e2-2a8c-44e9-fc4b-b29b1e7a9601"
      },
      "id": "LskgIBShTAHx",
      "execution_count": null,
      "outputs": [
        {
          "output_type": "stream",
          "name": "stdout",
          "text": [
            "Text: а с кошкой? с кошкой будет в порядке?!!!\n",
            "True: 0, Pred: 0\n",
            "------------------------------------------------------------\n",
            "Text: что ты можешь сделать уебок если видео даже слепить не можешь\n",
            "True: 1, Pred: 1\n",
            "------------------------------------------------------------\n",
            "Text: хороший состав был.\n",
            "True: 0, Pred: 0\n",
            "------------------------------------------------------------\n",
            "Text: спасибо всем, кошечка нашлась.\n",
            "True: 0, Pred: 0\n",
            "------------------------------------------------------------\n",
            "Text: да не будет их походу, нам сегодня : (\n",
            "True: 0, Pred: 0\n",
            "------------------------------------------------------------\n"
          ]
        }
      ]
    }
  ],
  "metadata": {
    "kernelspec": {
      "display_name": "Python 3",
      "name": "python3"
    },
    "language_info": {
      "codemirror_mode": {
        "name": "ipython",
        "version": 3
      },
      "file_extension": ".py",
      "mimetype": "text/x-python",
      "name": "python",
      "nbconvert_exporter": "python",
      "pygments_lexer": "ipython3",
      "version": "3.11.3"
    },
    "colab": {
      "provenance": []
    },
    "widgets": {
      "application/vnd.jupyter.widget-state+json": {
        "fd5bde0daf07478b8f9543310918011d": {
          "model_module": "@jupyter-widgets/controls",
          "model_name": "HBoxModel",
          "model_module_version": "1.5.0",
          "state": {
            "_dom_classes": [],
            "_model_module": "@jupyter-widgets/controls",
            "_model_module_version": "1.5.0",
            "_model_name": "HBoxModel",
            "_view_count": null,
            "_view_module": "@jupyter-widgets/controls",
            "_view_module_version": "1.5.0",
            "_view_name": "HBoxView",
            "box_style": "",
            "children": [
              "IPY_MODEL_96f4b0189a8846ababab341436dc9a94",
              "IPY_MODEL_3cb6ca02333a4f43ad89c0f2bbfcd30f",
              "IPY_MODEL_6c51217ed3594dfcae346302142cae1b"
            ],
            "layout": "IPY_MODEL_c85d6d53267e4c988614a2105e4c0536"
          }
        },
        "96f4b0189a8846ababab341436dc9a94": {
          "model_module": "@jupyter-widgets/controls",
          "model_name": "HTMLModel",
          "model_module_version": "1.5.0",
          "state": {
            "_dom_classes": [],
            "_model_module": "@jupyter-widgets/controls",
            "_model_module_version": "1.5.0",
            "_model_name": "HTMLModel",
            "_view_count": null,
            "_view_module": "@jupyter-widgets/controls",
            "_view_module_version": "1.5.0",
            "_view_name": "HTMLView",
            "description": "",
            "description_tooltip": null,
            "layout": "IPY_MODEL_aee63abe8b254f3999044dae92714775",
            "placeholder": "​",
            "style": "IPY_MODEL_66f0586b0abd436a87f0d89c99eae715",
            "value": "config.json: 100%"
          }
        },
        "3cb6ca02333a4f43ad89c0f2bbfcd30f": {
          "model_module": "@jupyter-widgets/controls",
          "model_name": "FloatProgressModel",
          "model_module_version": "1.5.0",
          "state": {
            "_dom_classes": [],
            "_model_module": "@jupyter-widgets/controls",
            "_model_module_version": "1.5.0",
            "_model_name": "FloatProgressModel",
            "_view_count": null,
            "_view_module": "@jupyter-widgets/controls",
            "_view_module_version": "1.5.0",
            "_view_name": "ProgressView",
            "bar_style": "success",
            "description": "",
            "description_tooltip": null,
            "layout": "IPY_MODEL_45d4917193514ac9b291d88ef061cfbc",
            "max": 590,
            "min": 0,
            "orientation": "horizontal",
            "style": "IPY_MODEL_19389e6bb0e449a2a5abee73052c6e3f",
            "value": 590
          }
        },
        "6c51217ed3594dfcae346302142cae1b": {
          "model_module": "@jupyter-widgets/controls",
          "model_name": "HTMLModel",
          "model_module_version": "1.5.0",
          "state": {
            "_dom_classes": [],
            "_model_module": "@jupyter-widgets/controls",
            "_model_module_version": "1.5.0",
            "_model_name": "HTMLModel",
            "_view_count": null,
            "_view_module": "@jupyter-widgets/controls",
            "_view_module_version": "1.5.0",
            "_view_name": "HTMLView",
            "description": "",
            "description_tooltip": null,
            "layout": "IPY_MODEL_34dd50188c5541768f641174ddac84aa",
            "placeholder": "​",
            "style": "IPY_MODEL_04f79c7617c34eed94783d6fe9eb4402",
            "value": " 590/590 [00:00&lt;00:00, 70.8kB/s]"
          }
        },
        "c85d6d53267e4c988614a2105e4c0536": {
          "model_module": "@jupyter-widgets/base",
          "model_name": "LayoutModel",
          "model_module_version": "1.2.0",
          "state": {
            "_model_module": "@jupyter-widgets/base",
            "_model_module_version": "1.2.0",
            "_model_name": "LayoutModel",
            "_view_count": null,
            "_view_module": "@jupyter-widgets/base",
            "_view_module_version": "1.2.0",
            "_view_name": "LayoutView",
            "align_content": null,
            "align_items": null,
            "align_self": null,
            "border": null,
            "bottom": null,
            "display": null,
            "flex": null,
            "flex_flow": null,
            "grid_area": null,
            "grid_auto_columns": null,
            "grid_auto_flow": null,
            "grid_auto_rows": null,
            "grid_column": null,
            "grid_gap": null,
            "grid_row": null,
            "grid_template_areas": null,
            "grid_template_columns": null,
            "grid_template_rows": null,
            "height": null,
            "justify_content": null,
            "justify_items": null,
            "left": null,
            "margin": null,
            "max_height": null,
            "max_width": null,
            "min_height": null,
            "min_width": null,
            "object_fit": null,
            "object_position": null,
            "order": null,
            "overflow": null,
            "overflow_x": null,
            "overflow_y": null,
            "padding": null,
            "right": null,
            "top": null,
            "visibility": null,
            "width": null
          }
        },
        "aee63abe8b254f3999044dae92714775": {
          "model_module": "@jupyter-widgets/base",
          "model_name": "LayoutModel",
          "model_module_version": "1.2.0",
          "state": {
            "_model_module": "@jupyter-widgets/base",
            "_model_module_version": "1.2.0",
            "_model_name": "LayoutModel",
            "_view_count": null,
            "_view_module": "@jupyter-widgets/base",
            "_view_module_version": "1.2.0",
            "_view_name": "LayoutView",
            "align_content": null,
            "align_items": null,
            "align_self": null,
            "border": null,
            "bottom": null,
            "display": null,
            "flex": null,
            "flex_flow": null,
            "grid_area": null,
            "grid_auto_columns": null,
            "grid_auto_flow": null,
            "grid_auto_rows": null,
            "grid_column": null,
            "grid_gap": null,
            "grid_row": null,
            "grid_template_areas": null,
            "grid_template_columns": null,
            "grid_template_rows": null,
            "height": null,
            "justify_content": null,
            "justify_items": null,
            "left": null,
            "margin": null,
            "max_height": null,
            "max_width": null,
            "min_height": null,
            "min_width": null,
            "object_fit": null,
            "object_position": null,
            "order": null,
            "overflow": null,
            "overflow_x": null,
            "overflow_y": null,
            "padding": null,
            "right": null,
            "top": null,
            "visibility": null,
            "width": null
          }
        },
        "66f0586b0abd436a87f0d89c99eae715": {
          "model_module": "@jupyter-widgets/controls",
          "model_name": "DescriptionStyleModel",
          "model_module_version": "1.5.0",
          "state": {
            "_model_module": "@jupyter-widgets/controls",
            "_model_module_version": "1.5.0",
            "_model_name": "DescriptionStyleModel",
            "_view_count": null,
            "_view_module": "@jupyter-widgets/base",
            "_view_module_version": "1.2.0",
            "_view_name": "StyleView",
            "description_width": ""
          }
        },
        "45d4917193514ac9b291d88ef061cfbc": {
          "model_module": "@jupyter-widgets/base",
          "model_name": "LayoutModel",
          "model_module_version": "1.2.0",
          "state": {
            "_model_module": "@jupyter-widgets/base",
            "_model_module_version": "1.2.0",
            "_model_name": "LayoutModel",
            "_view_count": null,
            "_view_module": "@jupyter-widgets/base",
            "_view_module_version": "1.2.0",
            "_view_name": "LayoutView",
            "align_content": null,
            "align_items": null,
            "align_self": null,
            "border": null,
            "bottom": null,
            "display": null,
            "flex": null,
            "flex_flow": null,
            "grid_area": null,
            "grid_auto_columns": null,
            "grid_auto_flow": null,
            "grid_auto_rows": null,
            "grid_column": null,
            "grid_gap": null,
            "grid_row": null,
            "grid_template_areas": null,
            "grid_template_columns": null,
            "grid_template_rows": null,
            "height": null,
            "justify_content": null,
            "justify_items": null,
            "left": null,
            "margin": null,
            "max_height": null,
            "max_width": null,
            "min_height": null,
            "min_width": null,
            "object_fit": null,
            "object_position": null,
            "order": null,
            "overflow": null,
            "overflow_x": null,
            "overflow_y": null,
            "padding": null,
            "right": null,
            "top": null,
            "visibility": null,
            "width": null
          }
        },
        "19389e6bb0e449a2a5abee73052c6e3f": {
          "model_module": "@jupyter-widgets/controls",
          "model_name": "ProgressStyleModel",
          "model_module_version": "1.5.0",
          "state": {
            "_model_module": "@jupyter-widgets/controls",
            "_model_module_version": "1.5.0",
            "_model_name": "ProgressStyleModel",
            "_view_count": null,
            "_view_module": "@jupyter-widgets/base",
            "_view_module_version": "1.2.0",
            "_view_name": "StyleView",
            "bar_color": null,
            "description_width": ""
          }
        },
        "34dd50188c5541768f641174ddac84aa": {
          "model_module": "@jupyter-widgets/base",
          "model_name": "LayoutModel",
          "model_module_version": "1.2.0",
          "state": {
            "_model_module": "@jupyter-widgets/base",
            "_model_module_version": "1.2.0",
            "_model_name": "LayoutModel",
            "_view_count": null,
            "_view_module": "@jupyter-widgets/base",
            "_view_module_version": "1.2.0",
            "_view_name": "LayoutView",
            "align_content": null,
            "align_items": null,
            "align_self": null,
            "border": null,
            "bottom": null,
            "display": null,
            "flex": null,
            "flex_flow": null,
            "grid_area": null,
            "grid_auto_columns": null,
            "grid_auto_flow": null,
            "grid_auto_rows": null,
            "grid_column": null,
            "grid_gap": null,
            "grid_row": null,
            "grid_template_areas": null,
            "grid_template_columns": null,
            "grid_template_rows": null,
            "height": null,
            "justify_content": null,
            "justify_items": null,
            "left": null,
            "margin": null,
            "max_height": null,
            "max_width": null,
            "min_height": null,
            "min_width": null,
            "object_fit": null,
            "object_position": null,
            "order": null,
            "overflow": null,
            "overflow_x": null,
            "overflow_y": null,
            "padding": null,
            "right": null,
            "top": null,
            "visibility": null,
            "width": null
          }
        },
        "04f79c7617c34eed94783d6fe9eb4402": {
          "model_module": "@jupyter-widgets/controls",
          "model_name": "DescriptionStyleModel",
          "model_module_version": "1.5.0",
          "state": {
            "_model_module": "@jupyter-widgets/controls",
            "_model_module_version": "1.5.0",
            "_model_name": "DescriptionStyleModel",
            "_view_count": null,
            "_view_module": "@jupyter-widgets/base",
            "_view_module_version": "1.2.0",
            "_view_name": "StyleView",
            "description_width": ""
          }
        },
        "656b3dee6b7c44f48b3a0448c8e19a65": {
          "model_module": "@jupyter-widgets/controls",
          "model_name": "HBoxModel",
          "model_module_version": "1.5.0",
          "state": {
            "_dom_classes": [],
            "_model_module": "@jupyter-widgets/controls",
            "_model_module_version": "1.5.0",
            "_model_name": "HBoxModel",
            "_view_count": null,
            "_view_module": "@jupyter-widgets/controls",
            "_view_module_version": "1.5.0",
            "_view_name": "HBoxView",
            "box_style": "",
            "children": [
              "IPY_MODEL_51473cabef3248f08e541cb1d3a7af78",
              "IPY_MODEL_aaab6d9f9f1e41ca9e446d6bba653a40",
              "IPY_MODEL_36575693de46431488d9168d83036adc"
            ],
            "layout": "IPY_MODEL_7346be129a9f46bb9d7c3aa66964580b"
          }
        },
        "51473cabef3248f08e541cb1d3a7af78": {
          "model_module": "@jupyter-widgets/controls",
          "model_name": "HTMLModel",
          "model_module_version": "1.5.0",
          "state": {
            "_dom_classes": [],
            "_model_module": "@jupyter-widgets/controls",
            "_model_module_version": "1.5.0",
            "_model_name": "HTMLModel",
            "_view_count": null,
            "_view_module": "@jupyter-widgets/controls",
            "_view_module_version": "1.5.0",
            "_view_name": "HTMLView",
            "description": "",
            "description_tooltip": null,
            "layout": "IPY_MODEL_d421e28cc53246e6bb4a7969411186ac",
            "placeholder": "​",
            "style": "IPY_MODEL_068a00d15e1d47a3b5b46bfe1bee906b",
            "value": "pytorch_model.bin: 100%"
          }
        },
        "aaab6d9f9f1e41ca9e446d6bba653a40": {
          "model_module": "@jupyter-widgets/controls",
          "model_name": "FloatProgressModel",
          "model_module_version": "1.5.0",
          "state": {
            "_dom_classes": [],
            "_model_module": "@jupyter-widgets/controls",
            "_model_module_version": "1.5.0",
            "_model_name": "FloatProgressModel",
            "_view_count": null,
            "_view_module": "@jupyter-widgets/controls",
            "_view_module_version": "1.5.0",
            "_view_name": "ProgressView",
            "bar_style": "success",
            "description": "",
            "description_tooltip": null,
            "layout": "IPY_MODEL_2cbd61897caa42e8b8c0f7cb4aeff359",
            "max": 716133354,
            "min": 0,
            "orientation": "horizontal",
            "style": "IPY_MODEL_55cc1d2fe76f4269901c8194251c83e4",
            "value": 716133354
          }
        },
        "36575693de46431488d9168d83036adc": {
          "model_module": "@jupyter-widgets/controls",
          "model_name": "HTMLModel",
          "model_module_version": "1.5.0",
          "state": {
            "_dom_classes": [],
            "_model_module": "@jupyter-widgets/controls",
            "_model_module_version": "1.5.0",
            "_model_name": "HTMLModel",
            "_view_count": null,
            "_view_module": "@jupyter-widgets/controls",
            "_view_module_version": "1.5.0",
            "_view_name": "HTMLView",
            "description": "",
            "description_tooltip": null,
            "layout": "IPY_MODEL_99bdb907265a43f1a35ea6e6750c30ce",
            "placeholder": "​",
            "style": "IPY_MODEL_5265656018884bb8acda207a67668ff7",
            "value": " 716M/716M [00:02&lt;00:00, 277MB/s]"
          }
        },
        "7346be129a9f46bb9d7c3aa66964580b": {
          "model_module": "@jupyter-widgets/base",
          "model_name": "LayoutModel",
          "model_module_version": "1.2.0",
          "state": {
            "_model_module": "@jupyter-widgets/base",
            "_model_module_version": "1.2.0",
            "_model_name": "LayoutModel",
            "_view_count": null,
            "_view_module": "@jupyter-widgets/base",
            "_view_module_version": "1.2.0",
            "_view_name": "LayoutView",
            "align_content": null,
            "align_items": null,
            "align_self": null,
            "border": null,
            "bottom": null,
            "display": null,
            "flex": null,
            "flex_flow": null,
            "grid_area": null,
            "grid_auto_columns": null,
            "grid_auto_flow": null,
            "grid_auto_rows": null,
            "grid_column": null,
            "grid_gap": null,
            "grid_row": null,
            "grid_template_areas": null,
            "grid_template_columns": null,
            "grid_template_rows": null,
            "height": null,
            "justify_content": null,
            "justify_items": null,
            "left": null,
            "margin": null,
            "max_height": null,
            "max_width": null,
            "min_height": null,
            "min_width": null,
            "object_fit": null,
            "object_position": null,
            "order": null,
            "overflow": null,
            "overflow_x": null,
            "overflow_y": null,
            "padding": null,
            "right": null,
            "top": null,
            "visibility": null,
            "width": null
          }
        },
        "d421e28cc53246e6bb4a7969411186ac": {
          "model_module": "@jupyter-widgets/base",
          "model_name": "LayoutModel",
          "model_module_version": "1.2.0",
          "state": {
            "_model_module": "@jupyter-widgets/base",
            "_model_module_version": "1.2.0",
            "_model_name": "LayoutModel",
            "_view_count": null,
            "_view_module": "@jupyter-widgets/base",
            "_view_module_version": "1.2.0",
            "_view_name": "LayoutView",
            "align_content": null,
            "align_items": null,
            "align_self": null,
            "border": null,
            "bottom": null,
            "display": null,
            "flex": null,
            "flex_flow": null,
            "grid_area": null,
            "grid_auto_columns": null,
            "grid_auto_flow": null,
            "grid_auto_rows": null,
            "grid_column": null,
            "grid_gap": null,
            "grid_row": null,
            "grid_template_areas": null,
            "grid_template_columns": null,
            "grid_template_rows": null,
            "height": null,
            "justify_content": null,
            "justify_items": null,
            "left": null,
            "margin": null,
            "max_height": null,
            "max_width": null,
            "min_height": null,
            "min_width": null,
            "object_fit": null,
            "object_position": null,
            "order": null,
            "overflow": null,
            "overflow_x": null,
            "overflow_y": null,
            "padding": null,
            "right": null,
            "top": null,
            "visibility": null,
            "width": null
          }
        },
        "068a00d15e1d47a3b5b46bfe1bee906b": {
          "model_module": "@jupyter-widgets/controls",
          "model_name": "DescriptionStyleModel",
          "model_module_version": "1.5.0",
          "state": {
            "_model_module": "@jupyter-widgets/controls",
            "_model_module_version": "1.5.0",
            "_model_name": "DescriptionStyleModel",
            "_view_count": null,
            "_view_module": "@jupyter-widgets/base",
            "_view_module_version": "1.2.0",
            "_view_name": "StyleView",
            "description_width": ""
          }
        },
        "2cbd61897caa42e8b8c0f7cb4aeff359": {
          "model_module": "@jupyter-widgets/base",
          "model_name": "LayoutModel",
          "model_module_version": "1.2.0",
          "state": {
            "_model_module": "@jupyter-widgets/base",
            "_model_module_version": "1.2.0",
            "_model_name": "LayoutModel",
            "_view_count": null,
            "_view_module": "@jupyter-widgets/base",
            "_view_module_version": "1.2.0",
            "_view_name": "LayoutView",
            "align_content": null,
            "align_items": null,
            "align_self": null,
            "border": null,
            "bottom": null,
            "display": null,
            "flex": null,
            "flex_flow": null,
            "grid_area": null,
            "grid_auto_columns": null,
            "grid_auto_flow": null,
            "grid_auto_rows": null,
            "grid_column": null,
            "grid_gap": null,
            "grid_row": null,
            "grid_template_areas": null,
            "grid_template_columns": null,
            "grid_template_rows": null,
            "height": null,
            "justify_content": null,
            "justify_items": null,
            "left": null,
            "margin": null,
            "max_height": null,
            "max_width": null,
            "min_height": null,
            "min_width": null,
            "object_fit": null,
            "object_position": null,
            "order": null,
            "overflow": null,
            "overflow_x": null,
            "overflow_y": null,
            "padding": null,
            "right": null,
            "top": null,
            "visibility": null,
            "width": null
          }
        },
        "55cc1d2fe76f4269901c8194251c83e4": {
          "model_module": "@jupyter-widgets/controls",
          "model_name": "ProgressStyleModel",
          "model_module_version": "1.5.0",
          "state": {
            "_model_module": "@jupyter-widgets/controls",
            "_model_module_version": "1.5.0",
            "_model_name": "ProgressStyleModel",
            "_view_count": null,
            "_view_module": "@jupyter-widgets/base",
            "_view_module_version": "1.2.0",
            "_view_name": "StyleView",
            "bar_color": null,
            "description_width": ""
          }
        },
        "99bdb907265a43f1a35ea6e6750c30ce": {
          "model_module": "@jupyter-widgets/base",
          "model_name": "LayoutModel",
          "model_module_version": "1.2.0",
          "state": {
            "_model_module": "@jupyter-widgets/base",
            "_model_module_version": "1.2.0",
            "_model_name": "LayoutModel",
            "_view_count": null,
            "_view_module": "@jupyter-widgets/base",
            "_view_module_version": "1.2.0",
            "_view_name": "LayoutView",
            "align_content": null,
            "align_items": null,
            "align_self": null,
            "border": null,
            "bottom": null,
            "display": null,
            "flex": null,
            "flex_flow": null,
            "grid_area": null,
            "grid_auto_columns": null,
            "grid_auto_flow": null,
            "grid_auto_rows": null,
            "grid_column": null,
            "grid_gap": null,
            "grid_row": null,
            "grid_template_areas": null,
            "grid_template_columns": null,
            "grid_template_rows": null,
            "height": null,
            "justify_content": null,
            "justify_items": null,
            "left": null,
            "margin": null,
            "max_height": null,
            "max_width": null,
            "min_height": null,
            "min_width": null,
            "object_fit": null,
            "object_position": null,
            "order": null,
            "overflow": null,
            "overflow_x": null,
            "overflow_y": null,
            "padding": null,
            "right": null,
            "top": null,
            "visibility": null,
            "width": null
          }
        },
        "5265656018884bb8acda207a67668ff7": {
          "model_module": "@jupyter-widgets/controls",
          "model_name": "DescriptionStyleModel",
          "model_module_version": "1.5.0",
          "state": {
            "_model_module": "@jupyter-widgets/controls",
            "_model_module_version": "1.5.0",
            "_model_name": "DescriptionStyleModel",
            "_view_count": null,
            "_view_module": "@jupyter-widgets/base",
            "_view_module_version": "1.2.0",
            "_view_name": "StyleView",
            "description_width": ""
          }
        },
        "33fb062318184aaca8ab942f3ee5a95a": {
          "model_module": "@jupyter-widgets/controls",
          "model_name": "HBoxModel",
          "model_module_version": "1.5.0",
          "state": {
            "_dom_classes": [],
            "_model_module": "@jupyter-widgets/controls",
            "_model_module_version": "1.5.0",
            "_model_name": "HBoxModel",
            "_view_count": null,
            "_view_module": "@jupyter-widgets/controls",
            "_view_module_version": "1.5.0",
            "_view_name": "HBoxView",
            "box_style": "",
            "children": [
              "IPY_MODEL_c630aaf94e97466abcf1b67eceedb760",
              "IPY_MODEL_6b718db3ae304d5593c5c1cabce80dda",
              "IPY_MODEL_16557eff20b242fa8144db6c1fbf63ff"
            ],
            "layout": "IPY_MODEL_1229ff8387c940c081ba966e891adc35"
          }
        },
        "c630aaf94e97466abcf1b67eceedb760": {
          "model_module": "@jupyter-widgets/controls",
          "model_name": "HTMLModel",
          "model_module_version": "1.5.0",
          "state": {
            "_dom_classes": [],
            "_model_module": "@jupyter-widgets/controls",
            "_model_module_version": "1.5.0",
            "_model_name": "HTMLModel",
            "_view_count": null,
            "_view_module": "@jupyter-widgets/controls",
            "_view_module_version": "1.5.0",
            "_view_name": "HTMLView",
            "description": "",
            "description_tooltip": null,
            "layout": "IPY_MODEL_8ac02e9f3df547fb9e917b6c143a0c3a",
            "placeholder": "​",
            "style": "IPY_MODEL_413cd4e74fbf470392aad57d3b8c96c2",
            "value": "vocab.txt: 100%"
          }
        },
        "6b718db3ae304d5593c5c1cabce80dda": {
          "model_module": "@jupyter-widgets/controls",
          "model_name": "FloatProgressModel",
          "model_module_version": "1.5.0",
          "state": {
            "_dom_classes": [],
            "_model_module": "@jupyter-widgets/controls",
            "_model_module_version": "1.5.0",
            "_model_name": "FloatProgressModel",
            "_view_count": null,
            "_view_module": "@jupyter-widgets/controls",
            "_view_module_version": "1.5.0",
            "_view_name": "ProgressView",
            "bar_style": "success",
            "description": "",
            "description_tooltip": null,
            "layout": "IPY_MODEL_7205a345e5044973b41a1a3707a2c5b5",
            "max": 1780720,
            "min": 0,
            "orientation": "horizontal",
            "style": "IPY_MODEL_be3307686d0942e98dc1fcbc3736f6c0",
            "value": 1780720
          }
        },
        "16557eff20b242fa8144db6c1fbf63ff": {
          "model_module": "@jupyter-widgets/controls",
          "model_name": "HTMLModel",
          "model_module_version": "1.5.0",
          "state": {
            "_dom_classes": [],
            "_model_module": "@jupyter-widgets/controls",
            "_model_module_version": "1.5.0",
            "_model_name": "HTMLModel",
            "_view_count": null,
            "_view_module": "@jupyter-widgets/controls",
            "_view_module_version": "1.5.0",
            "_view_name": "HTMLView",
            "description": "",
            "description_tooltip": null,
            "layout": "IPY_MODEL_551864a73fe943748afcbfd24931de07",
            "placeholder": "​",
            "style": "IPY_MODEL_34f2ffb9edf84c988ad868eb4ac75495",
            "value": " 1.78M/1.78M [00:00&lt;00:00, 2.02MB/s]"
          }
        },
        "1229ff8387c940c081ba966e891adc35": {
          "model_module": "@jupyter-widgets/base",
          "model_name": "LayoutModel",
          "model_module_version": "1.2.0",
          "state": {
            "_model_module": "@jupyter-widgets/base",
            "_model_module_version": "1.2.0",
            "_model_name": "LayoutModel",
            "_view_count": null,
            "_view_module": "@jupyter-widgets/base",
            "_view_module_version": "1.2.0",
            "_view_name": "LayoutView",
            "align_content": null,
            "align_items": null,
            "align_self": null,
            "border": null,
            "bottom": null,
            "display": null,
            "flex": null,
            "flex_flow": null,
            "grid_area": null,
            "grid_auto_columns": null,
            "grid_auto_flow": null,
            "grid_auto_rows": null,
            "grid_column": null,
            "grid_gap": null,
            "grid_row": null,
            "grid_template_areas": null,
            "grid_template_columns": null,
            "grid_template_rows": null,
            "height": null,
            "justify_content": null,
            "justify_items": null,
            "left": null,
            "margin": null,
            "max_height": null,
            "max_width": null,
            "min_height": null,
            "min_width": null,
            "object_fit": null,
            "object_position": null,
            "order": null,
            "overflow": null,
            "overflow_x": null,
            "overflow_y": null,
            "padding": null,
            "right": null,
            "top": null,
            "visibility": null,
            "width": null
          }
        },
        "8ac02e9f3df547fb9e917b6c143a0c3a": {
          "model_module": "@jupyter-widgets/base",
          "model_name": "LayoutModel",
          "model_module_version": "1.2.0",
          "state": {
            "_model_module": "@jupyter-widgets/base",
            "_model_module_version": "1.2.0",
            "_model_name": "LayoutModel",
            "_view_count": null,
            "_view_module": "@jupyter-widgets/base",
            "_view_module_version": "1.2.0",
            "_view_name": "LayoutView",
            "align_content": null,
            "align_items": null,
            "align_self": null,
            "border": null,
            "bottom": null,
            "display": null,
            "flex": null,
            "flex_flow": null,
            "grid_area": null,
            "grid_auto_columns": null,
            "grid_auto_flow": null,
            "grid_auto_rows": null,
            "grid_column": null,
            "grid_gap": null,
            "grid_row": null,
            "grid_template_areas": null,
            "grid_template_columns": null,
            "grid_template_rows": null,
            "height": null,
            "justify_content": null,
            "justify_items": null,
            "left": null,
            "margin": null,
            "max_height": null,
            "max_width": null,
            "min_height": null,
            "min_width": null,
            "object_fit": null,
            "object_position": null,
            "order": null,
            "overflow": null,
            "overflow_x": null,
            "overflow_y": null,
            "padding": null,
            "right": null,
            "top": null,
            "visibility": null,
            "width": null
          }
        },
        "413cd4e74fbf470392aad57d3b8c96c2": {
          "model_module": "@jupyter-widgets/controls",
          "model_name": "DescriptionStyleModel",
          "model_module_version": "1.5.0",
          "state": {
            "_model_module": "@jupyter-widgets/controls",
            "_model_module_version": "1.5.0",
            "_model_name": "DescriptionStyleModel",
            "_view_count": null,
            "_view_module": "@jupyter-widgets/base",
            "_view_module_version": "1.2.0",
            "_view_name": "StyleView",
            "description_width": ""
          }
        },
        "7205a345e5044973b41a1a3707a2c5b5": {
          "model_module": "@jupyter-widgets/base",
          "model_name": "LayoutModel",
          "model_module_version": "1.2.0",
          "state": {
            "_model_module": "@jupyter-widgets/base",
            "_model_module_version": "1.2.0",
            "_model_name": "LayoutModel",
            "_view_count": null,
            "_view_module": "@jupyter-widgets/base",
            "_view_module_version": "1.2.0",
            "_view_name": "LayoutView",
            "align_content": null,
            "align_items": null,
            "align_self": null,
            "border": null,
            "bottom": null,
            "display": null,
            "flex": null,
            "flex_flow": null,
            "grid_area": null,
            "grid_auto_columns": null,
            "grid_auto_flow": null,
            "grid_auto_rows": null,
            "grid_column": null,
            "grid_gap": null,
            "grid_row": null,
            "grid_template_areas": null,
            "grid_template_columns": null,
            "grid_template_rows": null,
            "height": null,
            "justify_content": null,
            "justify_items": null,
            "left": null,
            "margin": null,
            "max_height": null,
            "max_width": null,
            "min_height": null,
            "min_width": null,
            "object_fit": null,
            "object_position": null,
            "order": null,
            "overflow": null,
            "overflow_x": null,
            "overflow_y": null,
            "padding": null,
            "right": null,
            "top": null,
            "visibility": null,
            "width": null
          }
        },
        "be3307686d0942e98dc1fcbc3736f6c0": {
          "model_module": "@jupyter-widgets/controls",
          "model_name": "ProgressStyleModel",
          "model_module_version": "1.5.0",
          "state": {
            "_model_module": "@jupyter-widgets/controls",
            "_model_module_version": "1.5.0",
            "_model_name": "ProgressStyleModel",
            "_view_count": null,
            "_view_module": "@jupyter-widgets/base",
            "_view_module_version": "1.2.0",
            "_view_name": "StyleView",
            "bar_color": null,
            "description_width": ""
          }
        },
        "551864a73fe943748afcbfd24931de07": {
          "model_module": "@jupyter-widgets/base",
          "model_name": "LayoutModel",
          "model_module_version": "1.2.0",
          "state": {
            "_model_module": "@jupyter-widgets/base",
            "_model_module_version": "1.2.0",
            "_model_name": "LayoutModel",
            "_view_count": null,
            "_view_module": "@jupyter-widgets/base",
            "_view_module_version": "1.2.0",
            "_view_name": "LayoutView",
            "align_content": null,
            "align_items": null,
            "align_self": null,
            "border": null,
            "bottom": null,
            "display": null,
            "flex": null,
            "flex_flow": null,
            "grid_area": null,
            "grid_auto_columns": null,
            "grid_auto_flow": null,
            "grid_auto_rows": null,
            "grid_column": null,
            "grid_gap": null,
            "grid_row": null,
            "grid_template_areas": null,
            "grid_template_columns": null,
            "grid_template_rows": null,
            "height": null,
            "justify_content": null,
            "justify_items": null,
            "left": null,
            "margin": null,
            "max_height": null,
            "max_width": null,
            "min_height": null,
            "min_width": null,
            "object_fit": null,
            "object_position": null,
            "order": null,
            "overflow": null,
            "overflow_x": null,
            "overflow_y": null,
            "padding": null,
            "right": null,
            "top": null,
            "visibility": null,
            "width": null
          }
        },
        "34f2ffb9edf84c988ad868eb4ac75495": {
          "model_module": "@jupyter-widgets/controls",
          "model_name": "DescriptionStyleModel",
          "model_module_version": "1.5.0",
          "state": {
            "_model_module": "@jupyter-widgets/controls",
            "_model_module_version": "1.5.0",
            "_model_name": "DescriptionStyleModel",
            "_view_count": null,
            "_view_module": "@jupyter-widgets/base",
            "_view_module_version": "1.2.0",
            "_view_name": "StyleView",
            "description_width": ""
          }
        }
      }
    }
  },
  "nbformat": 4,
  "nbformat_minor": 5
}